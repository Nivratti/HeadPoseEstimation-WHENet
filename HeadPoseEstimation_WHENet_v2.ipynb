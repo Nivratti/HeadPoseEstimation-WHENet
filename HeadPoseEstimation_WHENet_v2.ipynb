{
  "nbformat": 4,
  "nbformat_minor": 0,
  "metadata": {
    "colab": {
      "name": "HeadPoseEstimation-WHENet-v2.ipynb",
      "provenance": [],
      "collapsed_sections": [
        "e5pa9zugIgoo"
      ],
      "authorship_tag": "ABX9TyMiQurxmxIFsNi0aWO2mtdo",
      "include_colab_link": true
    },
    "kernelspec": {
      "name": "python3",
      "display_name": "Python 3"
    },
    "language_info": {
      "name": "python"
    },
    "accelerator": "GPU"
  },
  "cells": [
    {
      "cell_type": "markdown",
      "metadata": {
        "id": "view-in-github",
        "colab_type": "text"
      },
      "source": [
        "<a href=\"https://colab.research.google.com/github/Nivratti/HeadPoseEstimation-WHENet/blob/master/HeadPoseEstimation_WHENet_v2.ipynb\" target=\"_parent\"><img src=\"https://colab.research.google.com/assets/colab-badge.svg\" alt=\"Open In Colab\"/></a>"
      ]
    },
    {
      "cell_type": "markdown",
      "metadata": {
        "id": "HbdOSK4S0ElM"
      },
      "source": [
        ""
      ]
    },
    {
      "cell_type": "markdown",
      "metadata": {
        "id": "e5pa9zugIgoo"
      },
      "source": [
        "## <font color=\"orange\" size=\"+3\">1. setup : </font>"
      ]
    },
    {
      "cell_type": "code",
      "metadata": {
        "colab": {
          "base_uri": "https://localhost:8080/"
        },
        "id": "RszlDDourMtJ",
        "outputId": "0e80571a-9883-4490-c93f-b5c041383fc4"
      },
      "source": [
        "!git clone https://github.com/Nivratti/HeadPoseEstimation-WHENet.git"
      ],
      "execution_count": 1,
      "outputs": [
        {
          "output_type": "stream",
          "text": [
            "Cloning into 'HeadPoseEstimation-WHENet'...\n",
            "remote: Enumerating objects: 268, done.\u001b[K\n",
            "remote: Counting objects: 100% (268/268), done.\u001b[K\n",
            "remote: Compressing objects: 100% (204/204), done.\u001b[K\n",
            "remote: Total 268 (delta 67), reused 246 (delta 56), pack-reused 0\u001b[K\n",
            "Receiving objects: 100% (268/268), 24.04 MiB | 15.08 MiB/s, done.\n",
            "Resolving deltas: 100% (67/67), done.\n"
          ],
          "name": "stdout"
        }
      ]
    },
    {
      "cell_type": "code",
      "metadata": {
        "colab": {
          "base_uri": "https://localhost:8080/"
        },
        "id": "5E2xGZX8JLv8",
        "outputId": "7d056e24-41d6-4610-99f8-cca025516819"
      },
      "source": [
        "## Install retinaface -- face detection library \n",
        "# --no-dependencies : Ignore package dependencies -- otherwise it will install some specific version libraries -- it will take time and sometimes we need to restart kernel to laod new packages\n",
        "!pip install --no-dependencies retinaface \n",
        "!pip install --no-dependencies utilpack ## it installing new pillow version -- and we need to restart -- so we are not installing any dependancies\n",
        "!pip install slack_sdk\n",
        "!pip install pdfrw\n",
        "!pip install pycryptodome\n",
        "!pip install PyMySQL"
      ],
      "execution_count": 2,
      "outputs": [
        {
          "output_type": "stream",
          "text": [
            "Collecting retinaface\n",
            "\u001b[?25l  Downloading https://files.pythonhosted.org/packages/9f/b1/071d078897cefb498c5636bbef78aa942856871c177d08677eaf8d52f436/retinaface-0.0.6-py3-none-any.whl (5.9MB)\n",
            "\u001b[K     |████████████████████████████████| 5.9MB 12.9MB/s \n",
            "\u001b[?25hInstalling collected packages: retinaface\n",
            "Successfully installed retinaface-0.0.6\n",
            "Collecting utilpack\n",
            "\u001b[?25l  Downloading https://files.pythonhosted.org/packages/f4/76/e2e811e6300ec0f3e9e660a08d4b31af0b085696249ba78889a1039d084c/utilpack-2.0.0-py3-none-any.whl (50kB)\n",
            "\u001b[K     |████████████████████████████████| 51kB 6.3MB/s \n",
            "\u001b[?25hInstalling collected packages: utilpack\n",
            "Successfully installed utilpack-2.0.0\n",
            "Collecting slack_sdk\n",
            "\u001b[?25l  Downloading https://files.pythonhosted.org/packages/fa/4d/d5ff2ac9bd6e5f9ed1655f1f56e6948e858945766ca32db303fd650938b2/slack_sdk-3.8.0-py2.py3-none-any.whl (233kB)\n",
            "\u001b[K     |████████████████████████████████| 235kB 13.2MB/s \n",
            "\u001b[31mERROR: utilpack 2.0.0 requires gunicorn==20.1.0, which is not installed.\u001b[0m\n",
            "\u001b[31mERROR: utilpack 2.0.0 requires pdfrw==0.4, which is not installed.\u001b[0m\n",
            "\u001b[31mERROR: utilpack 2.0.0 requires pycryptodome==3.10.1, which is not installed.\u001b[0m\n",
            "\u001b[31mERROR: utilpack 2.0.0 requires PyMySQL==1.0.2, which is not installed.\u001b[0m\n",
            "\u001b[31mERROR: utilpack 2.0.0 has requirement Flask==2.0.1, but you'll have flask 1.1.4 which is incompatible.\u001b[0m\n",
            "\u001b[31mERROR: utilpack 2.0.0 has requirement matplotlib==3.3.4, but you'll have matplotlib 3.2.2 which is incompatible.\u001b[0m\n",
            "\u001b[31mERROR: utilpack 2.0.0 has requirement opencv-python==4.5.2.54, but you'll have opencv-python 4.1.2.30 which is incompatible.\u001b[0m\n",
            "\u001b[31mERROR: utilpack 2.0.0 has requirement Pillow==8.3.1, but you'll have pillow 7.1.2 which is incompatible.\u001b[0m\n",
            "\u001b[31mERROR: utilpack 2.0.0 has requirement requests==2.25.1, but you'll have requests 2.23.0 which is incompatible.\u001b[0m\n",
            "\u001b[31mERROR: utilpack 2.0.0 has requirement slack-sdk==3.7.0, but you'll have slack-sdk 3.8.0 which is incompatible.\u001b[0m\n",
            "\u001b[31mERROR: utilpack 2.0.0 has requirement tqdm==4.61.2, but you'll have tqdm 4.41.1 which is incompatible.\u001b[0m\n",
            "\u001b[31mERROR: retinaface 0.0.6 has requirement tensorflow==2.1.0, but you'll have tensorflow 2.5.0 which is incompatible.\u001b[0m\n",
            "\u001b[?25hInstalling collected packages: slack-sdk\n",
            "Successfully installed slack-sdk-3.8.0\n",
            "Collecting pdfrw\n",
            "\u001b[?25l  Downloading https://files.pythonhosted.org/packages/c0/84/af442c4458756bb0c0d2424102d1200616f3ff9b82c48aaa130e08549bf6/pdfrw-0.4-py2.py3-none-any.whl (69kB)\n",
            "\u001b[K     |████████████████████████████████| 71kB 7.4MB/s \n",
            "\u001b[31mERROR: utilpack 2.0.0 requires gunicorn==20.1.0, which is not installed.\u001b[0m\n",
            "\u001b[31mERROR: utilpack 2.0.0 requires pycryptodome==3.10.1, which is not installed.\u001b[0m\n",
            "\u001b[31mERROR: utilpack 2.0.0 requires PyMySQL==1.0.2, which is not installed.\u001b[0m\n",
            "\u001b[31mERROR: utilpack 2.0.0 has requirement Flask==2.0.1, but you'll have flask 1.1.4 which is incompatible.\u001b[0m\n",
            "\u001b[31mERROR: utilpack 2.0.0 has requirement matplotlib==3.3.4, but you'll have matplotlib 3.2.2 which is incompatible.\u001b[0m\n",
            "\u001b[31mERROR: utilpack 2.0.0 has requirement opencv-python==4.5.2.54, but you'll have opencv-python 4.1.2.30 which is incompatible.\u001b[0m\n",
            "\u001b[31mERROR: utilpack 2.0.0 has requirement Pillow==8.3.1, but you'll have pillow 7.1.2 which is incompatible.\u001b[0m\n",
            "\u001b[31mERROR: utilpack 2.0.0 has requirement requests==2.25.1, but you'll have requests 2.23.0 which is incompatible.\u001b[0m\n",
            "\u001b[31mERROR: utilpack 2.0.0 has requirement slack-sdk==3.7.0, but you'll have slack-sdk 3.8.0 which is incompatible.\u001b[0m\n",
            "\u001b[31mERROR: utilpack 2.0.0 has requirement tqdm==4.61.2, but you'll have tqdm 4.41.1 which is incompatible.\u001b[0m\n",
            "\u001b[31mERROR: retinaface 0.0.6 has requirement tensorflow==2.1.0, but you'll have tensorflow 2.5.0 which is incompatible.\u001b[0m\n",
            "\u001b[?25hInstalling collected packages: pdfrw\n",
            "Successfully installed pdfrw-0.4\n",
            "Collecting pycryptodome\n",
            "\u001b[?25l  Downloading https://files.pythonhosted.org/packages/ad/16/9627ab0493894a11c68e46000dbcc82f578c8ff06bc2980dcd016aea9bd3/pycryptodome-3.10.1-cp35-abi3-manylinux2010_x86_64.whl (1.9MB)\n",
            "\u001b[K     |████████████████████████████████| 1.9MB 14.7MB/s \n",
            "\u001b[31mERROR: utilpack 2.0.0 requires gunicorn==20.1.0, which is not installed.\u001b[0m\n",
            "\u001b[31mERROR: utilpack 2.0.0 requires PyMySQL==1.0.2, which is not installed.\u001b[0m\n",
            "\u001b[31mERROR: utilpack 2.0.0 has requirement Flask==2.0.1, but you'll have flask 1.1.4 which is incompatible.\u001b[0m\n",
            "\u001b[31mERROR: utilpack 2.0.0 has requirement matplotlib==3.3.4, but you'll have matplotlib 3.2.2 which is incompatible.\u001b[0m\n",
            "\u001b[31mERROR: utilpack 2.0.0 has requirement opencv-python==4.5.2.54, but you'll have opencv-python 4.1.2.30 which is incompatible.\u001b[0m\n",
            "\u001b[31mERROR: utilpack 2.0.0 has requirement Pillow==8.3.1, but you'll have pillow 7.1.2 which is incompatible.\u001b[0m\n",
            "\u001b[31mERROR: utilpack 2.0.0 has requirement requests==2.25.1, but you'll have requests 2.23.0 which is incompatible.\u001b[0m\n",
            "\u001b[31mERROR: utilpack 2.0.0 has requirement slack-sdk==3.7.0, but you'll have slack-sdk 3.8.0 which is incompatible.\u001b[0m\n",
            "\u001b[31mERROR: utilpack 2.0.0 has requirement tqdm==4.61.2, but you'll have tqdm 4.41.1 which is incompatible.\u001b[0m\n",
            "\u001b[31mERROR: retinaface 0.0.6 has requirement tensorflow==2.1.0, but you'll have tensorflow 2.5.0 which is incompatible.\u001b[0m\n",
            "\u001b[?25hInstalling collected packages: pycryptodome\n",
            "Successfully installed pycryptodome-3.10.1\n",
            "Collecting PyMySQL\n",
            "\u001b[?25l  Downloading https://files.pythonhosted.org/packages/4f/52/a115fe175028b058df353c5a3d5290b71514a83f67078a6482cff24d6137/PyMySQL-1.0.2-py3-none-any.whl (43kB)\n",
            "\u001b[K     |████████████████████████████████| 51kB 6.6MB/s \n",
            "\u001b[31mERROR: utilpack 2.0.0 requires gunicorn==20.1.0, which is not installed.\u001b[0m\n",
            "\u001b[31mERROR: utilpack 2.0.0 has requirement Flask==2.0.1, but you'll have flask 1.1.4 which is incompatible.\u001b[0m\n",
            "\u001b[31mERROR: utilpack 2.0.0 has requirement matplotlib==3.3.4, but you'll have matplotlib 3.2.2 which is incompatible.\u001b[0m\n",
            "\u001b[31mERROR: utilpack 2.0.0 has requirement opencv-python==4.5.2.54, but you'll have opencv-python 4.1.2.30 which is incompatible.\u001b[0m\n",
            "\u001b[31mERROR: utilpack 2.0.0 has requirement Pillow==8.3.1, but you'll have pillow 7.1.2 which is incompatible.\u001b[0m\n",
            "\u001b[31mERROR: utilpack 2.0.0 has requirement requests==2.25.1, but you'll have requests 2.23.0 which is incompatible.\u001b[0m\n",
            "\u001b[31mERROR: utilpack 2.0.0 has requirement slack-sdk==3.7.0, but you'll have slack-sdk 3.8.0 which is incompatible.\u001b[0m\n",
            "\u001b[31mERROR: utilpack 2.0.0 has requirement tqdm==4.61.2, but you'll have tqdm 4.41.1 which is incompatible.\u001b[0m\n",
            "\u001b[31mERROR: retinaface 0.0.6 has requirement tensorflow==2.1.0, but you'll have tensorflow 2.5.0 which is incompatible.\u001b[0m\n",
            "\u001b[?25hInstalling collected packages: PyMySQL\n",
            "Successfully installed PyMySQL-1.0.2\n"
          ],
          "name": "stdout"
        }
      ]
    },
    {
      "cell_type": "code",
      "metadata": {
        "colab": {
          "base_uri": "https://localhost:8080/"
        },
        "id": "EBmUVD1IIkFe",
        "outputId": "9c75fa7d-2e08-425d-d6d0-aef58e48d562"
      },
      "source": [
        "## Auto time plugin\n",
        "!pip install ipython-autotime\n",
        "\n",
        "%load_ext autotime"
      ],
      "execution_count": 3,
      "outputs": [
        {
          "output_type": "stream",
          "text": [
            "Collecting ipython-autotime\n",
            "  Downloading https://files.pythonhosted.org/packages/b4/c9/b413a24f759641bc27ef98c144b590023c8038dfb8a3f09e713e9dff12c1/ipython_autotime-0.3.1-py2.py3-none-any.whl\n",
            "Requirement already satisfied: ipython in /usr/local/lib/python3.7/dist-packages (from ipython-autotime) (5.5.0)\n",
            "Requirement already satisfied: setuptools>=18.5 in /usr/local/lib/python3.7/dist-packages (from ipython->ipython-autotime) (57.2.0)\n",
            "Requirement already satisfied: simplegeneric>0.8 in /usr/local/lib/python3.7/dist-packages (from ipython->ipython-autotime) (0.8.1)\n",
            "Requirement already satisfied: prompt-toolkit<2.0.0,>=1.0.4 in /usr/local/lib/python3.7/dist-packages (from ipython->ipython-autotime) (1.0.18)\n",
            "Requirement already satisfied: pexpect; sys_platform != \"win32\" in /usr/local/lib/python3.7/dist-packages (from ipython->ipython-autotime) (4.8.0)\n",
            "Requirement already satisfied: pickleshare in /usr/local/lib/python3.7/dist-packages (from ipython->ipython-autotime) (0.7.5)\n",
            "Requirement already satisfied: traitlets>=4.2 in /usr/local/lib/python3.7/dist-packages (from ipython->ipython-autotime) (5.0.5)\n",
            "Requirement already satisfied: pygments in /usr/local/lib/python3.7/dist-packages (from ipython->ipython-autotime) (2.6.1)\n",
            "Requirement already satisfied: decorator in /usr/local/lib/python3.7/dist-packages (from ipython->ipython-autotime) (4.4.2)\n",
            "Requirement already satisfied: wcwidth in /usr/local/lib/python3.7/dist-packages (from prompt-toolkit<2.0.0,>=1.0.4->ipython->ipython-autotime) (0.2.5)\n",
            "Requirement already satisfied: six>=1.9.0 in /usr/local/lib/python3.7/dist-packages (from prompt-toolkit<2.0.0,>=1.0.4->ipython->ipython-autotime) (1.15.0)\n",
            "Requirement already satisfied: ptyprocess>=0.5 in /usr/local/lib/python3.7/dist-packages (from pexpect; sys_platform != \"win32\"->ipython->ipython-autotime) (0.7.0)\n",
            "Requirement already satisfied: ipython-genutils in /usr/local/lib/python3.7/dist-packages (from traitlets>=4.2->ipython->ipython-autotime) (0.2.0)\n",
            "Installing collected packages: ipython-autotime\n",
            "Successfully installed ipython-autotime-0.3.1\n",
            "time: 151 µs (started: 2021-07-17 14:17:23 +00:00)\n"
          ],
          "name": "stdout"
        }
      ]
    },
    {
      "cell_type": "code",
      "metadata": {
        "colab": {
          "base_uri": "https://localhost:8080/"
        },
        "id": "I7wqvisRT0IZ",
        "outputId": "d5594489-aa34-4904-e532-7cf262e6694b"
      },
      "source": [
        "!pip install nb_utils"
      ],
      "execution_count": 4,
      "outputs": [
        {
          "output_type": "stream",
          "text": [
            "Collecting nb_utils\n",
            "  Downloading https://files.pythonhosted.org/packages/f8/c5/a1ee31c872fe8d8caf4fbd2602fc7c340979d47d12f5696adf659fe97aa8/nb_utils-0.1.1-py3-none-any.whl\n",
            "Installing collected packages: nb-utils\n",
            "Successfully installed nb-utils-0.1.1\n",
            "time: 2.74 s (started: 2021-07-17 14:17:23 +00:00)\n"
          ],
          "name": "stdout"
        }
      ]
    },
    {
      "cell_type": "code",
      "metadata": {
        "colab": {
          "base_uri": "https://localhost:8080/"
        },
        "id": "BMkYFse-1mZy",
        "outputId": "862e12c3-7f3f-49f6-b9d0-35d2da0bb41c"
      },
      "source": [
        "!pip install loguru"
      ],
      "execution_count": 5,
      "outputs": [
        {
          "output_type": "stream",
          "text": [
            "Collecting loguru\n",
            "\u001b[?25l  Downloading https://files.pythonhosted.org/packages/6d/48/0a7d5847e3de329f1d0134baf707b689700b53bd3066a5a8cfd94b3c9fc8/loguru-0.5.3-py3-none-any.whl (57kB)\n",
            "\r\u001b[K     |█████▊                          | 10kB 22.8MB/s eta 0:00:01\r\u001b[K     |███████████▌                    | 20kB 29.6MB/s eta 0:00:01\r\u001b[K     |█████████████████▏              | 30kB 31.8MB/s eta 0:00:01\r\u001b[K     |███████████████████████         | 40kB 22.1MB/s eta 0:00:01\r\u001b[K     |████████████████████████████▋   | 51kB 15.2MB/s eta 0:00:01\r\u001b[K     |████████████████████████████████| 61kB 6.8MB/s \n",
            "\u001b[?25hInstalling collected packages: loguru\n",
            "Successfully installed loguru-0.5.3\n",
            "time: 2.83 s (started: 2021-07-17 14:17:26 +00:00)\n"
          ],
          "name": "stdout"
        }
      ]
    },
    {
      "cell_type": "code",
      "metadata": {
        "colab": {
          "base_uri": "https://localhost:8080/"
        },
        "id": "60L4-fNw4zW7",
        "outputId": "d0c7eba6-f69b-4ee3-b748-268085b9ba8c"
      },
      "source": [
        "!pip install efficientnet"
      ],
      "execution_count": 6,
      "outputs": [
        {
          "output_type": "stream",
          "text": [
            "Collecting efficientnet\n",
            "  Downloading https://files.pythonhosted.org/packages/53/97/84f88e581d6ac86dcf1ab347c497c4c568c38784e3a2bd659b96912ab793/efficientnet-1.1.1-py3-none-any.whl\n",
            "Requirement already satisfied: scikit-image in /usr/local/lib/python3.7/dist-packages (from efficientnet) (0.16.2)\n",
            "Collecting keras-applications<=1.0.8,>=1.0.7\n",
            "\u001b[?25l  Downloading https://files.pythonhosted.org/packages/71/e3/19762fdfc62877ae9102edf6342d71b28fbfd9dea3d2f96a882ce099b03f/Keras_Applications-1.0.8-py3-none-any.whl (50kB)\n",
            "\u001b[K     |████████████████████████████████| 51kB 6.7MB/s \n",
            "\u001b[?25hRequirement already satisfied: PyWavelets>=0.4.0 in /usr/local/lib/python3.7/dist-packages (from scikit-image->efficientnet) (1.1.1)\n",
            "Requirement already satisfied: matplotlib!=3.0.0,>=2.0.0 in /usr/local/lib/python3.7/dist-packages (from scikit-image->efficientnet) (3.2.2)\n",
            "Requirement already satisfied: scipy>=0.19.0 in /usr/local/lib/python3.7/dist-packages (from scikit-image->efficientnet) (1.4.1)\n",
            "Requirement already satisfied: imageio>=2.3.0 in /usr/local/lib/python3.7/dist-packages (from scikit-image->efficientnet) (2.4.1)\n",
            "Requirement already satisfied: networkx>=2.0 in /usr/local/lib/python3.7/dist-packages (from scikit-image->efficientnet) (2.5.1)\n",
            "Requirement already satisfied: pillow>=4.3.0 in /usr/local/lib/python3.7/dist-packages (from scikit-image->efficientnet) (7.1.2)\n",
            "Requirement already satisfied: numpy>=1.9.1 in /usr/local/lib/python3.7/dist-packages (from keras-applications<=1.0.8,>=1.0.7->efficientnet) (1.19.5)\n",
            "Requirement already satisfied: h5py in /usr/local/lib/python3.7/dist-packages (from keras-applications<=1.0.8,>=1.0.7->efficientnet) (3.1.0)\n",
            "Requirement already satisfied: pyparsing!=2.0.4,!=2.1.2,!=2.1.6,>=2.0.1 in /usr/local/lib/python3.7/dist-packages (from matplotlib!=3.0.0,>=2.0.0->scikit-image->efficientnet) (2.4.7)\n",
            "Requirement already satisfied: kiwisolver>=1.0.1 in /usr/local/lib/python3.7/dist-packages (from matplotlib!=3.0.0,>=2.0.0->scikit-image->efficientnet) (1.3.1)\n",
            "Requirement already satisfied: cycler>=0.10 in /usr/local/lib/python3.7/dist-packages (from matplotlib!=3.0.0,>=2.0.0->scikit-image->efficientnet) (0.10.0)\n",
            "Requirement already satisfied: python-dateutil>=2.1 in /usr/local/lib/python3.7/dist-packages (from matplotlib!=3.0.0,>=2.0.0->scikit-image->efficientnet) (2.8.1)\n",
            "Requirement already satisfied: decorator<5,>=4.3 in /usr/local/lib/python3.7/dist-packages (from networkx>=2.0->scikit-image->efficientnet) (4.4.2)\n",
            "Requirement already satisfied: cached-property; python_version < \"3.8\" in /usr/local/lib/python3.7/dist-packages (from h5py->keras-applications<=1.0.8,>=1.0.7->efficientnet) (1.5.2)\n",
            "Requirement already satisfied: six in /usr/local/lib/python3.7/dist-packages (from cycler>=0.10->matplotlib!=3.0.0,>=2.0.0->scikit-image->efficientnet) (1.15.0)\n",
            "Installing collected packages: keras-applications, efficientnet\n",
            "Successfully installed efficientnet-1.1.1 keras-applications-1.0.8\n",
            "time: 2.84 s (started: 2021-07-17 14:17:29 +00:00)\n"
          ],
          "name": "stdout"
        }
      ]
    },
    {
      "cell_type": "markdown",
      "metadata": {
        "id": "uJc_Jxf31tOq"
      },
      "source": [
        "## <font color=\"orange\" size=\"+3\">2. Logger configuration: </font>\n"
      ]
    },
    {
      "cell_type": "code",
      "metadata": {
        "colab": {
          "base_uri": "https://localhost:8080/"
        },
        "id": "IexMiIyk1zPy",
        "outputId": "36290ce7-1285-43de-efa2-6128c38ea029"
      },
      "source": [
        "## Loge level, formatter\n",
        "import sys\n",
        "from loguru import logger\n",
        "\n",
        "logger.remove() # remove previously added handlar - -to make a fresh start.\n",
        "\n",
        "# enqueue=True : Asynchronous, Thread-safe, Multiprocess-safe\n",
        "# backtrace=True, diagnose=True : Fully descriptive exceptions - Loguru helps you identify problems by allowing the entire stack trace to be displayed, including values of variables\n",
        "logger.add(sys.stdout, colorize=True, format=\"<green>{time:HH:mm:ss}</green> | {level} | {name} | <level>{message}</level>\", level=\"INFO\", enqueue=True, backtrace=True, diagnose=True)"
      ],
      "execution_count": 7,
      "outputs": [
        {
          "output_type": "execute_result",
          "data": {
            "text/plain": [
              "1"
            ]
          },
          "metadata": {
            "tags": []
          },
          "execution_count": 7
        },
        {
          "output_type": "stream",
          "text": [
            "time: 28.2 ms (started: 2021-07-17 14:17:46 +00:00)\n"
          ],
          "name": "stdout"
        }
      ]
    },
    {
      "cell_type": "code",
      "metadata": {
        "colab": {
          "base_uri": "https://localhost:8080/"
        },
        "id": "TSS2iymn3HQv",
        "outputId": "21e55dff-d2fe-4c2a-a1f7-366cffabb12f"
      },
      "source": [
        "logger.info(\"Hi\")"
      ],
      "execution_count": 8,
      "outputs": [
        {
          "output_type": "stream",
          "text": [
            "time: 1.61 ms (started: 2021-07-17 14:17:48 +00:00)\n",
            "\u001b[32m14:17:48\u001b[0m | INFO | __main__ | \u001b[1mHi\u001b[0m\n"
          ],
          "name": "stdout"
        }
      ]
    },
    {
      "cell_type": "markdown",
      "metadata": {
        "id": "IOvrNhqKJyAf"
      },
      "source": [
        "## <font color=\"orange\" size=\"+3\">3. Write Retinaface wrapper and init detector : </font>\n",
        "\n",
        "Custom wrapper for reducing image size for speed improvement"
      ]
    },
    {
      "cell_type": "code",
      "metadata": {
        "cellView": "form",
        "colab": {
          "base_uri": "https://localhost:8080/"
        },
        "id": "-rT4a6ZXJ3Vh",
        "outputId": "6e92a4ed-0153-4f74-81c2-a5f85e0197af"
      },
      "source": [
        "#@title Define FaceDetection_RetinaFaceTF2\n",
        "import cv2 \n",
        "import imutils\n",
        "from retinaface import RetinaFace\n",
        "\n",
        "class FaceDetection_RetinaFaceTF2:\n",
        "    def __init__(self, quality=\"normal\"):\n",
        "        self.face_detector = RetinaFace(quality=quality)\n",
        "\n",
        "    def read(self, image_path):\n",
        "        return self.face_detector.read(image_path)\n",
        "\n",
        "    def detect_highlight_face(self, rgb_image, max_side_len=640, max_faces=1, return_boxformat=\"xywh\"):\n",
        "        ## Resize image\n",
        "        scale_factor = None\n",
        "\n",
        "        height, width, c = rgb_image.shape\n",
        "        if width > max_side_len or height > max_side_len:\n",
        "            if height > width:\n",
        "                scale_factor = max_side_len / height\n",
        "\n",
        "                resized = imutils.resize(rgb_image, height=max_side_len)\n",
        "            else:\n",
        "                scale_factor = max_side_len / width\n",
        "                resized = imutils.resize(rgb_image, width=max_side_len)\n",
        "\n",
        "            logger.info(f\"scale_factor: {scale_factor}\")\n",
        "            # tn_image = resize((int(width * scale_factor), int(height * scale_factor)))\n",
        "\n",
        "        if scale_factor:\n",
        "            faces = self.face_detector.predict(resized)\n",
        "\n",
        "            ## Rescaled face boxes -- restore\n",
        "            if faces:\n",
        "              for face in faces:\n",
        "                  face[\"x1\"] = int(face[\"x1\"] / scale_factor)\n",
        "                  face[\"y1\"] = int(face[\"y1\"] / scale_factor)\n",
        "                  face[\"x2\"] = int(face[\"x2\"] / scale_factor)\n",
        "                  face[\"y2\"] = int(face[\"y2\"] / scale_factor)\n",
        "        else:\n",
        "            faces = self.face_detector.predict(rgb_image)\n",
        "    \n",
        "        # print(faces)\n",
        "\n",
        "        # faces is list of face dictionary\n",
        "        # each face dictionary contains x1 y1 x2 y2 left_eye right_eye nose left_lip right_lip\n",
        "        # faces=[{\"x1\":20,\"y1\":32, ... }, ...]\n",
        "\n",
        "        if faces:\n",
        "            result_img = self.face_detector.draw(rgb_image, faces)\n",
        "        else:\n",
        "            result_img = None\n",
        "        # # save ([...,::-1] : rgb -> bgr )\n",
        "        # cv2.imwrite(\"result_img.jpg\",result_img[...,::-1])\n",
        "\n",
        "        return (faces, result_img)"
      ],
      "execution_count": 9,
      "outputs": [
        {
          "output_type": "stream",
          "text": [
            "time: 3.04 s (started: 2021-07-17 14:18:24 +00:00)\n"
          ],
          "name": "stdout"
        }
      ]
    },
    {
      "cell_type": "code",
      "metadata": {
        "colab": {
          "base_uri": "https://localhost:8080/"
        },
        "id": "WpDY0szhKFyD",
        "outputId": "d8fe0f29-d554-4dd3-dbf1-e9bfb3ba8507"
      },
      "source": [
        "face_detector = FaceDetection_RetinaFaceTF2()\n",
        "logger.info(\"Success! Initialized face detector..\")"
      ],
      "execution_count": 10,
      "outputs": [
        {
          "output_type": "stream",
          "text": [
            "model[normal quality] init ..\n",
            "model success !\n",
            "time: 19.6 s (started: 2021-07-17 14:18:27 +00:00)\n",
            "\u001b[32m14:18:46\u001b[0m | INFO | __main__ | \u001b[1mSuccess! Initialized face detector..\u001b[0m\n"
          ],
          "name": "stdout"
        }
      ]
    },
    {
      "cell_type": "markdown",
      "metadata": {
        "id": "slL84S5rKOHA"
      },
      "source": [
        "## <h1><font color=\"orange\" size=\"+3\">4. Test detector : </font></h1>"
      ]
    },
    {
      "cell_type": "code",
      "metadata": {
        "id": "2GWaC4A7KPCO",
        "colab": {
          "base_uri": "https://localhost:8080/"
        },
        "outputId": "f9427999-40d1-4f5a-b18d-0a67e7f198fd"
      },
      "source": [
        "## RetinaFaceTF2 -- takes less than 100 ms on GPU\n",
        "\n",
        "# same with cv2.imread,cv2.cvtColor \n",
        "rgb_image = face_detector.read(\"/content/HeadPoseEstimation-WHENet/Sample/maruti.jpg\")\n",
        "\n",
        "faces, result_img = face_detector.detect_highlight_face(rgb_image, max_side_len=640)\n",
        "\n",
        "logger.info(f\"Total faces: {len(faces)}\")\n",
        "logger.info(f\"faces: {faces}\")\n",
        "\n",
        "## RGB to BGR\n",
        "cv2.imwrite(\"result_img.jpg\", result_img[...,::-1])"
      ],
      "execution_count": 41,
      "outputs": [
        {
          "output_type": "stream",
          "text": [
            "\u001b[32m14:59:12\u001b[0m | INFO | __main__ | \u001b[1mscale_factor: 0.16740779492545121\u001b[0m\n",
            "\u001b[32m14:59:13\u001b[0m | INFO | __main__ | \u001b[1mTotal faces: 1\u001b[0m\n",
            "\u001b[32m14:59:13\u001b[0m | INFO | __main__ | \u001b[1mfaces: [{'x1': 1756, 'y1': 842, 'x2': 2234, 'y2': 1469, 'left_eye': (317, 180), 'right_eye': (350, 189), 'nose': (327, 200), 'left_lip': (310, 215), 'right_lip': (338, 222)}]\u001b[0m\n"
          ],
          "name": "stdout"
        },
        {
          "output_type": "execute_result",
          "data": {
            "text/plain": [
              "True"
            ]
          },
          "metadata": {
            "tags": []
          },
          "execution_count": 41
        },
        {
          "output_type": "stream",
          "text": [
            "time: 614 ms (started: 2021-07-17 14:59:12 +00:00)\n"
          ],
          "name": "stdout"
        }
      ]
    },
    {
      "cell_type": "code",
      "metadata": {
        "colab": {
          "base_uri": "https://localhost:8080/"
        },
        "id": "kw8pZx5d7tQE",
        "outputId": "7c396938-7b7b-48b5-8d3c-3e29305f0ca4"
      },
      "source": [
        "## Modified facebox format\n",
        "face = [faces[0][\"x1\"], faces[0][\"y1\"], faces[0][\"x2\"], faces[0][\"y2\"]]\n",
        "logger.info(f\"face: {face} \\n\")"
      ],
      "execution_count": 42,
      "outputs": [
        {
          "output_type": "stream",
          "text": [
            "\u001b[32m14:59:19\u001b[0m | INFO | __main__ | \u001b[1mface: [1756, 842, 2234, 1469] \n",
            "\u001b[0m\n",
            "time: 4.8 ms (started: 2021-07-17 14:59:19 +00:00)\n"
          ],
          "name": "stdout"
        }
      ]
    },
    {
      "cell_type": "markdown",
      "metadata": {
        "id": "hECObBYw02P8"
      },
      "source": [
        "## <font color=\"orange\" size=\"+3\">2. Logger configuration: </font>\n"
      ]
    },
    {
      "cell_type": "code",
      "metadata": {
        "colab": {
          "base_uri": "https://localhost:8080/"
        },
        "id": "k22fYK8NwEJi",
        "outputId": "41529bd0-d31c-4198-d163-48480ff8c45a"
      },
      "source": [
        "%cd \"/content/HeadPoseEstimation-WHENet\""
      ],
      "execution_count": 43,
      "outputs": [
        {
          "output_type": "stream",
          "text": [
            "/content/HeadPoseEstimation-WHENet\n",
            "time: 1.69 ms (started: 2021-07-17 14:59:34 +00:00)\n"
          ],
          "name": "stdout"
        }
      ]
    },
    {
      "cell_type": "code",
      "metadata": {
        "id": "Dgp_YKMUwVJl",
        "colab": {
          "base_uri": "https://localhost:8080/"
        },
        "outputId": "8fc703b2-60f7-4c91-fb1c-4bda3ca8ef9a"
      },
      "source": [
        "import os\n",
        "import cv2\n",
        "import numpy as np\n",
        "from PIL import Image\n",
        "from utils import draw_axis\n",
        "\n",
        "\n",
        "def process_detection( model, img_bgr, bbox, is_draw_axis=True, display_all_euler_angle=\"full\"):\n",
        "\n",
        "    img = img_bgr\n",
        "    # y_min, x_min, y_max, x_max = bbox # yolo v3 face detector\n",
        "    x_min, y_min, x_max, y_max = bbox # retinaface tf2\n",
        "\n",
        "    # enlarge the bbox to include more background margin\n",
        "    y_min = max(0, y_min - abs(y_min - y_max) / 10)\n",
        "    y_max = min(img.shape[0], y_max + abs(y_min - y_max) / 10)\n",
        "    x_min = max(0, x_min - abs(x_min - x_max) / 5)\n",
        "    x_max = min(img.shape[1], x_max + abs(x_min - x_max) / 5)\n",
        "    x_max = min(x_max, img.shape[1])\n",
        "\n",
        "    img_cropped = img[int(y_min):int(y_max), int(x_min):int(x_max)]\n",
        "    # cv2.imwrite(\"img_cropped.jpg\", img_cropped)\n",
        "    \n",
        "    img_rgb = cv2.cvtColor(img_cropped, cv2.COLOR_BGR2RGB)\n",
        "    img_rgb = cv2.resize(img_rgb, (224, 224))\n",
        "    img_rgb = np.expand_dims(img_rgb, axis=0)\n",
        "\n",
        "    cv2.rectangle(img, (int(x_min), int(y_min)), (int(x_max), int(y_max)), (0,0,0), 2)\n",
        "    yaw, pitch, roll = model.get_angle(img_rgb)\n",
        "    yaw, pitch, roll = np.squeeze([yaw, pitch, roll])\n",
        "\n",
        "    if is_draw_axis:\n",
        "        draw_axis(img, yaw, pitch, roll, tdx=(x_min+x_max)/2, tdy=(y_min+y_max)/2, size = abs(x_max-x_min)//2 )\n",
        "\n",
        "    if display_all_euler_angle == 'full':\n",
        "        cv2.putText(img, \"yaw: {}\".format(np.round(yaw)), (int(x_min), int(y_min)), cv2.FONT_HERSHEY_SIMPLEX, 0.4, (100, 255, 0), 1)\n",
        "        cv2.putText(img, \"pitch: {}\".format(np.round(pitch)), (int(x_min), int(y_min) - 15), cv2.FONT_HERSHEY_SIMPLEX, 0.4, (100, 255, 0), 1)\n",
        "        cv2.putText(img, \"roll: {}\".format(np.round(roll)), (int(x_min), int(y_min)-30), cv2.FONT_HERSHEY_SIMPLEX, 0.4, (100, 255, 0), 1)\n",
        "    return (img, yaw, pitch, roll)\n"
      ],
      "execution_count": 44,
      "outputs": [
        {
          "output_type": "stream",
          "text": [
            "time: 22.5 ms (started: 2021-07-17 14:59:35 +00:00)\n"
          ],
          "name": "stdout"
        }
      ]
    },
    {
      "cell_type": "code",
      "metadata": {
        "id": "NYg9FkytyMXe",
        "colab": {
          "base_uri": "https://localhost:8080/"
        },
        "outputId": "2bbe9be3-c645-4939-95f5-a462667cb388"
      },
      "source": [
        "from whenet import WHENet"
      ],
      "execution_count": 15,
      "outputs": [
        {
          "output_type": "stream",
          "text": [
            "time: 1.12 ms (started: 2021-07-17 14:21:18 +00:00)\n"
          ],
          "name": "stdout"
        }
      ]
    },
    {
      "cell_type": "code",
      "metadata": {
        "id": "6BYNpB5lxGyq",
        "colab": {
          "base_uri": "https://localhost:8080/"
        },
        "outputId": "0258ecfb-ce52-4299-bbf9-6fa794df3c81"
      },
      "source": [
        "import os\n",
        "import argparse\n",
        "\n",
        "args = argparse.Namespace(\n",
        "    snapshot=\"WHENet.h5\",  # whenet snapshot path\n",
        "    score=0.3, # yolo confidence score threshold\n",
        "    iou=0.3, # yolo iou threshold\n",
        "    gpu='0',\n",
        ")\n",
        "\n",
        "## Set env\n",
        "os.environ[\"CUDA_DEVICE_ORDER\"] = \"PCI_BUS_ID\"\n",
        "os.environ[\"CUDA_VISIBLE_DEVICES\"] = args.gpu"
      ],
      "execution_count": 16,
      "outputs": [
        {
          "output_type": "stream",
          "text": [
            "time: 4.64 ms (started: 2021-07-17 14:21:22 +00:00)\n"
          ],
          "name": "stdout"
        }
      ]
    },
    {
      "cell_type": "code",
      "metadata": {
        "id": "wYk0_4F9yH7b",
        "colab": {
          "base_uri": "https://localhost:8080/"
        },
        "outputId": "0a9c78d5-4ad5-4b9f-efce-c969b5a36235"
      },
      "source": [
        "## Init head pose estimation model\n",
        "whenet = WHENet(snapshot=args.snapshot)"
      ],
      "execution_count": 17,
      "outputs": [
        {
          "output_type": "stream",
          "text": [
            "Downloading data from https://github.com/Callidior/keras-applications/releases/download/efficientnet/efficientnet-b0_weights_tf_dim_ordering_tf_kernels_autoaugment_notop.h5\n",
            "16809984/16804768 [==============================] - 2s 0us/step\n",
            "time: 3.86 s (started: 2021-07-17 14:21:51 +00:00)\n"
          ],
          "name": "stdout"
        }
      ]
    },
    {
      "cell_type": "code",
      "metadata": {
        "id": "3oOdeiWYx1Vl",
        "colab": {
          "base_uri": "https://localhost:8080/"
        },
        "outputId": "86ce0509-43da-443c-e798-952821ad8e85"
      },
      "source": [
        "%%time\n",
        "image_bgr = cv2.imread(\"/content/HeadPoseEstimation-WHENet/Sample/maruti.jpg\")\n",
        "image_rgb = cv2.cvtColor(image_bgr, cv2.COLOR_BGR2RGB)\n",
        "\n",
        "faces, result_img = face_detector.detect_highlight_face(image_rgb, max_side_len=640)\n",
        "\n",
        "logger.info(f\"Total faces: {len(faces)}\")\n",
        "# logger.info(f\"faces: {faces}\")\n",
        "\n",
        "bboxes = []\n",
        "for face in faces:\n",
        "    bbox = [faces[0][\"x1\"], faces[0][\"y1\"], faces[0][\"x2\"], faces[0][\"y2\"]]\n",
        "    bboxes.append(bbox)\n",
        "\n",
        "## Visualize\n",
        "img_pil = Image.fromarray(image_rgb)\n",
        "for bbox in bboxes:\n",
        "    out_img, yaw, pitch, roll = process_detection(whenet, image_bgr, bbox, args)\n",
        "\n",
        "logger.info(f\"Storing result in out.jpg ... \\n\")\n",
        "cv2.imwrite(\"out.jpg\", out_img)"
      ],
      "execution_count": 46,
      "outputs": [
        {
          "output_type": "stream",
          "text": [
            "\u001b[32m15:00:31\u001b[0m | INFO | __main__ | \u001b[1mscale_factor: 0.16740779492545121\u001b[0m\n",
            "\u001b[32m15:00:31\u001b[0m | INFO | __main__ | \u001b[1mTotal faces: 1\u001b[0m\n",
            "\u001b[32m15:00:31\u001b[0m | INFO | __main__ | \u001b[1mStoring result in out.jpg ... \n",
            "\u001b[0m\n",
            "CPU times: user 588 ms, sys: 4.02 ms, total: 592 ms\n",
            "Wall time: 527 ms\n",
            "time: 536 ms (started: 2021-07-17 15:00:31 +00:00)\n"
          ],
          "name": "stdout"
        }
      ]
    }
  ]
}